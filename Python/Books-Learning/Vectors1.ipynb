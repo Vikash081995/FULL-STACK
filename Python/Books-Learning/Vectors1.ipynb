{
 "cells": [
  {
   "cell_type": "code",
   "execution_count": 1,
   "id": "e6e0f60d-72eb-4eeb-b4e0-0fa39b285b0b",
   "metadata": {},
   "outputs": [],
   "source": [
    "import numpy as np"
   ]
  },
  {
   "cell_type": "code",
   "execution_count": 21,
   "id": "0b2eec8a-2cbd-4a9d-b2d8-169d638b2046",
   "metadata": {},
   "outputs": [],
   "source": [
    "asList =[1,2,3]\n",
    "asArray =np.array([1,2,3])\n",
    "rowVec = np.array([[1,2,3]])\n",
    "colVec = np.array([[1],[2],[3]])"
   ]
  },
  {
   "cell_type": "code",
   "execution_count": 23,
   "id": "094d4297-25fd-4614-ae78-57e621e4554c",
   "metadata": {},
   "outputs": [
    {
     "name": "stdout",
     "output_type": "stream",
     "text": [
      "as list:$(3,)\n"
     ]
    }
   ],
   "source": [
    "print(f'as list:${np.shape(asList)}')"
   ]
  },
  {
   "cell_type": "code",
   "execution_count": 25,
   "id": "7bdbcdaf-b4a3-4f44-b764-a6c354049167",
   "metadata": {},
   "outputs": [
    {
     "name": "stdout",
     "output_type": "stream",
     "text": [
      "asArray: (3,)\n",
      "rowVec:  (1, 3)\n",
      "colVec:  (3, 1)\n"
     ]
    }
   ],
   "source": [
    "print(f'asArray: {asArray.shape}')\n",
    "print(f'rowVec:  {rowVec.shape}')\n",
    "print(f'colVec:  {colVec.shape}')"
   ]
  }
 ],
 "metadata": {
  "kernelspec": {
   "display_name": "Python [conda env:base] *",
   "language": "python",
   "name": "conda-base-py"
  },
  "language_info": {
   "codemirror_mode": {
    "name": "ipython",
    "version": 3
   },
   "file_extension": ".py",
   "mimetype": "text/x-python",
   "name": "python",
   "nbconvert_exporter": "python",
   "pygments_lexer": "ipython3",
   "version": "3.12.7"
  }
 },
 "nbformat": 4,
 "nbformat_minor": 5
}
